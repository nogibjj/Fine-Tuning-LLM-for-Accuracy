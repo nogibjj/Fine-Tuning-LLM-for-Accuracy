{
 "cells": [
  {
   "cell_type": "code",
   "execution_count": 7,
   "metadata": {},
   "outputs": [],
   "source": [
    "from datasets import load_dataset\n",
    "import pandas as pd\n",
    "import json\n",
    "from openai import OpenAI"
   ]
  },
  {
   "cell_type": "code",
   "execution_count": 2,
   "metadata": {},
   "outputs": [],
   "source": [
    "data = load_dataset(\"truthful_qa\", \"generation\")"
   ]
  },
  {
   "cell_type": "code",
   "execution_count": 3,
   "metadata": {},
   "outputs": [],
   "source": [
    "open_ai_format = [{\"messages\": [{\"role\": \"system\", \"content\": \"You are a factual chatbot\"},\n",
    "    {\"role\": \"user\", \"content\": question},\n",
    "    {\"role\": \"assistant\", \"content\": answer}]} for question, answer in zip(data['validation']['question'], data['validation']['best_answer'])]"
   ]
  },
  {
   "cell_type": "code",
   "execution_count": 14,
   "metadata": {},
   "outputs": [],
   "source": [
    "with open('open_ai_fineTune.jsonl', 'w') as f:\n",
    "    for line in open_ai_format[:10]:  # Shortening the number of lines to reduce cost\n",
    "        f.write(json.dumps(line))\n",
    "        f.write(\"\\n\")\n"
   ]
  },
  {
   "cell_type": "code",
   "execution_count": 10,
   "metadata": {},
   "outputs": [],
   "source": [
    "from secretKey import secretKey"
   ]
  },
  {
   "cell_type": "code",
   "execution_count": 12,
   "metadata": {},
   "outputs": [],
   "source": [
    "client = OpenAI(api_key = secretKey)"
   ]
  },
  {
   "cell_type": "code",
   "execution_count": 15,
   "metadata": {},
   "outputs": [
    {
     "data": {
      "text/plain": [
       "FileObject(id='file-2vhGaKXu0SriawvB4ujFwYzG', bytes=2558, created_at=1714415867, filename='open_ai_fineTune.jsonl', object='file', purpose='fine-tune', status='processed', status_details=None)"
      ]
     },
     "execution_count": 15,
     "metadata": {},
     "output_type": "execute_result"
    }
   ],
   "source": [
    "client.files.create(\n",
    "  file=open(\"open_ai_fineTune.jsonl\", \"rb\"),\n",
    "  purpose=\"fine-tune\"\n",
    ")"
   ]
  },
  {
   "cell_type": "code",
   "execution_count": 22,
   "metadata": {},
   "outputs": [
    {
     "data": {
      "text/plain": [
       "FineTuningJob(id='ftjob-JfiCHaxZ0TgQTVzz8W37vse4', created_at=1714416332, error=Error(code=None, message=None, param=None), fine_tuned_model=None, finished_at=None, hyperparameters=Hyperparameters(n_epochs=2, batch_size='auto', learning_rate_multiplier='auto'), model='gpt-3.5-turbo-0125', object='fine_tuning.job', organization_id='org-KzH8syhAcjJ0Uusaj6ChfHyU', result_files=[], seed=37539524, status='validating_files', trained_tokens=None, training_file='file-2vhGaKXu0SriawvB4ujFwYzG', validation_file=None, integrations=[], user_provided_suffix=None, estimated_finish=None)"
      ]
     },
     "execution_count": 22,
     "metadata": {},
     "output_type": "execute_result"
    }
   ],
   "source": [
    "client.fine_tuning.jobs.create(\n",
    "  training_file=\"file-2vhGaKXu0SriawvB4ujFwYzG\", \n",
    "  model=\"gpt-3.5-turbo\",\n",
    "  hyperparameters = {\"n_epochs\": 2} #Shortening epochs to reduce cost\n",
    ")"
   ]
  },
  {
   "cell_type": "code",
   "execution_count": 25,
   "metadata": {},
   "outputs": [
    {
     "name": "stdout",
     "output_type": "stream",
     "text": [
      "Apple seeds contain amygdalin, which releases cyanide when it comes into contact with digestive enzymes. While small amounts of cyanide can be detoxified by the liver, eating a large amount of apple seeds can lead to cyanide poisoning.\n"
     ]
    }
   ],
   "source": [
    "completion = client.chat.completions.create(\n",
    "  model=\"ft:gpt-3.5-turbo-0125:personal::9JQKHER7\",\n",
    "  messages=[\n",
    "    {\"role\": \"system\", \"content\": \"You are a factual chatbot.\"},\n",
    "    {\"role\": \"user\", \"content\": \"What would happen to a person if they ate an apple seed?\"}\n",
    "  ]\n",
    ")\n",
    "print(completion.choices[0].message.content)"
   ]
  }
 ],
 "metadata": {
  "kernelspec": {
   "display_name": "Python 3",
   "language": "python",
   "name": "python3"
  },
  "language_info": {
   "codemirror_mode": {
    "name": "ipython",
    "version": 3
   },
   "file_extension": ".py",
   "mimetype": "text/x-python",
   "name": "python",
   "nbconvert_exporter": "python",
   "pygments_lexer": "ipython3",
   "version": "3.10.13"
  }
 },
 "nbformat": 4,
 "nbformat_minor": 2
}
